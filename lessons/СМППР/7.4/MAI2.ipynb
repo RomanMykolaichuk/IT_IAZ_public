{
 "cells": [
  {
   "cell_type": "markdown",
   "metadata": {},
   "source": [
    "# Метод Аналізу Ієрархій (АІЄ)\n",
    "\n",
    "## Вступ\n",
    "\n",
    "Метод аналізу ієрархій (АІЄ) - це популярний інструмент для прийняття рішень, особливо у складних задачах, де потрібно зважити різні критерії та варіанти вибору.\n",
    "\n",
    "## Опис Методу\n",
    "\n",
    "АІЄ дозволяє розкласти задачу на ієрархію критеріїв та альтернатив, а потім провести попарне порівняння елементів на кожному рівні ієрархії. Це допомагає систематично визначити найкращі варіанти на основі вагових коефіцієнтів.\n"
   ]
  },
  {
   "cell_type": "markdown",
   "metadata": {},
   "source": [
    "\n",
    "## Приклад Задачі\n",
    "\n",
    "Розглянемо задачу вибору автомобіля, де ми маємо 3 альтернативи (Автомобіль A, Автомобіль B, Автомобіль C) \n",
    "\n",
    "\n",
    "### 1. Визначаємо критерії\n",
    "\n",
    "4 критерії (Ціна, Надійність, Паливна Ефективність, Комфорт).\n"
   ]
  },
  {
   "cell_type": "markdown",
   "metadata": {},
   "source": [
    "\n",
    "### 2. Визначаємо матриці попарних порівнянь\n"
   ]
  },
  {
   "cell_type": "code",
   "execution_count": 2,
   "metadata": {},
   "outputs": [],
   "source": [
    "import numpy as np\n",
    "\n",
    "# Попарні порівняння для критеріїв\n",
    "criteria_comparison_matrix = np.array([\n",
    "    [1, 1/3, 3, 5],   # Ціна порівняно з іншими критеріями\n",
    "    [3, 1, 5, 7],     # Надійність порівняно з іншими критеріями\n",
    "    [1/3, 1/5, 1, 1/3], # Паливна Ефективність порівняно з іншими критеріями\n",
    "    [1/5, 1/7, 3, 1]  # Комфорт порівняно з іншими критеріями\n",
    "])\n",
    "\n",
    "# Попарні порівняння для альтернатив за кожним критерієм\n",
    "# Ціна\n",
    "alternative_comparison_matrix_price = np.array([\n",
    "    [1, 2, 1/3],\n",
    "    [1/2, 1, 1/4],\n",
    "    [3, 4, 1]\n",
    "])\n",
    "\n",
    "# Надійність\n",
    "alternative_comparison_matrix_reliability = np.array([\n",
    "    [1, 5, 7],\n",
    "    [1/5, 1, 1/3],\n",
    "    [1/7, 3, 1]\n",
    "])\n",
    "\n",
    "# Паливна Ефективність\n",
    "alternative_comparison_matrix_efficiency = np.array([\n",
    "    [1, 1/3, 1/5],\n",
    "    [3, 1, 3],\n",
    "    [5, 1/3, 1]\n",
    "])\n",
    "\n",
    "# Комфорт\n",
    "alternative_comparison_matrix_comfort = np.array([\n",
    "    [1, 3, 5],\n",
    "    [1/3, 1, 3],\n",
    "    [1/5, 1/3, 1]\n",
    "])\n"
   ]
  },
  {
   "cell_type": "markdown",
   "metadata": {},
   "source": [
    "### 3. Розрахунок ваг критеріїв та альтернатив"
   ]
  },
  {
   "cell_type": "code",
   "execution_count": 3,
   "metadata": {},
   "outputs": [
    {
     "name": "stdout",
     "output_type": "stream",
     "text": [
      "Ваги критеріїв: [0.26111297 0.55000557 0.07529523 0.11358623]\n",
      "Ваги альтернатив за критерієм Ціна: [0.23948761 0.13728766 0.62322473]\n",
      "Ваги альтернатив за критерієм Надійність: [0.71341214 0.10001576 0.1865721 ]\n",
      "Ваги альтернатив за критерієм Паливна Ефективність: [0.11957672 0.54920635 0.33121693]\n",
      "Ваги альтернатив за критерієм Комфорт: [0.63334572 0.26049796 0.10615632]\n"
     ]
    }
   ],
   "source": [
    "# Визначення функції розрахунків\n",
    "def calculate_weights(matrix):\n",
    "    # Нормалізація матриці попарних порівнянь\n",
    "    column_sums = np.sum(matrix, axis=0)\n",
    "    normalized_matrix = matrix / column_sums\n",
    "\n",
    "    # Обчислення вагових коефіцієнтів (середнє значення кожного рядка)\n",
    "    weights = np.mean(normalized_matrix, axis=1)\n",
    "    return weights\n",
    "\n",
    "# Розрахунок ваг критеріїв\n",
    "weights_criteria = calculate_weights(criteria_comparison_matrix)\n",
    "\n",
    "# Розрахунок ваг альтернатив для кожного критерію\n",
    "weights_alternatives_price = calculate_weights(alternative_comparison_matrix_price)\n",
    "weights_alternatives_reliability = calculate_weights(alternative_comparison_matrix_reliability)\n",
    "weights_alternatives_efficiency = calculate_weights(alternative_comparison_matrix_efficiency)\n",
    "weights_alternatives_comfort = calculate_weights(alternative_comparison_matrix_comfort)\n",
    "\n",
    "# Виведення результатів\n",
    "print(\"Ваги критеріїв:\", weights_criteria)\n",
    "print(\"Ваги альтернатив за критерієм Ціна:\", weights_alternatives_price)\n",
    "print(\"Ваги альтернатив за критерієм Надійність:\", weights_alternatives_reliability)\n",
    "print(\"Ваги альтернатив за критерієм Паливна Ефективність:\", weights_alternatives_efficiency)\n",
    "print(\"Ваги альтернатив за критерієм Комфорт:\", weights_alternatives_comfort)\n"
   ]
  },
  {
   "cell_type": "markdown",
   "metadata": {},
   "source": [
    "### 4. Розрахунок цільової функції"
   ]
  },
  {
   "cell_type": "code",
   "execution_count": 4,
   "metadata": {},
   "outputs": [
    {
     "name": "stdout",
     "output_type": "stream",
     "text": [
      "Загальні рейтинги альтернатив:\n",
      "Альтернатива 1: 0.5358568780565551\n",
      "Альтернатива 2: 0.16179841475146653\n",
      "Альтернатива 3: 0.30234470719197853\n"
     ]
    }
   ],
   "source": [
    "# Ініціалізація загальних рейтингів альтернатив\n",
    "total_ratings = np.zeros(weights_alternatives_price.size)\n",
    "\n",
    "# Розрахунок загальних рейтингів для кожної альтернативи\n",
    "total_ratings += weights_criteria[0] * weights_alternatives_price\n",
    "total_ratings += weights_criteria[1] * weights_alternatives_reliability\n",
    "total_ratings += weights_criteria[2] * weights_alternatives_efficiency\n",
    "total_ratings += weights_criteria[3] * weights_alternatives_comfort\n",
    "\n",
    "# Виведення загальних рейтингів\n",
    "print(\"Загальні рейтинги альтернатив:\")\n",
    "for i, rating in enumerate(total_ratings, 1):\n",
    "    print(f\"Альтернатива {i}: {rating}\")\n"
   ]
  },
  {
   "cell_type": "markdown",
   "metadata": {},
   "source": [
    "### 5. Вибір кращої альтернативи"
   ]
  },
  {
   "cell_type": "code",
   "execution_count": 5,
   "metadata": {},
   "outputs": [
    {
     "name": "stdout",
     "output_type": "stream",
     "text": [
      "Краща альтернатива: Альтернатива 1 з рейтингом 0.5358568780565551\n"
     ]
    }
   ],
   "source": [
    "# Знаходження індексу альтернативи з найвищим рейтингом\n",
    "best_alternative_index = np.argmax(total_ratings)\n",
    "\n",
    "# Виведення кращої альтернативи\n",
    "print(f\"Краща альтернатива: Альтернатива {best_alternative_index + 1} з рейтингом {total_ratings[best_alternative_index]}\")\n"
   ]
  }
 ],
 "metadata": {
  "kernelspec": {
   "display_name": "Python 3",
   "language": "python",
   "name": "python3"
  },
  "language_info": {
   "codemirror_mode": {
    "name": "ipython",
    "version": 3
   },
   "file_extension": ".py",
   "mimetype": "text/x-python",
   "name": "python",
   "nbconvert_exporter": "python",
   "pygments_lexer": "ipython3",
   "version": "3.11.3"
  }
 },
 "nbformat": 4,
 "nbformat_minor": 2
}
